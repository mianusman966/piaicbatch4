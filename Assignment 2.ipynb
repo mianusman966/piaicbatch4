{
 "cells": [
  {
   "cell_type": "markdown",
   "metadata": {},
   "source": [
    "# Class for Week 3 of Python"
   ]
  },
  {
   "cell_type": "markdown",
   "metadata": {},
   "source": [
    "# Assignment\n",
    "# 1. Indexing\n",
    "\n",
    "Write code for retriving values from list by indexing and print a statement message for given lists\n",
    "\n",
    "# Example 1\n",
    "employee_data = ['Ali', 125000, 'Google', 5]\n",
    "\n",
    "*output: 'Ali is working in Google for 5 years and his salary is 125000'\n",
    "\n",
    "# Example 2\n",
    "studentData = ['Ahmed', 'Bilal', 'Government College University', 'Computer Science', 'BS', 50000,\n",
    "\t\t\t\t'28 Januray 2020', '05 February 2020']\n",
    "                \n",
    "*output:\n",
    "\n",
    "'Hello Ahmed Bilal,\n",
    "Your application is accepted for admission in \"BS Computer Science\" in Government College University.\n",
    "You have to submit fee 50000 before 28 January 2020.\n",
    "Your classes will start from 05 February 2020.\n",
    "Thanks'\n",
    "hint: Use list indexing and string format methods"
   ]
  },
  {
   "cell_type": "markdown",
   "metadata": {},
   "source": [
    "# Solution of Example 1"
   ]
  },
  {
   "cell_type": "code",
   "execution_count": 36,
   "metadata": {},
   "outputs": [
    {
     "name": "stdout",
     "output_type": "stream",
     "text": [
      "Ali is working in Google for 5 years and his salary is 125000\n"
     ]
    }
   ],
   "source": [
    "employees_data = [\"Ali\", 125000, \"Google\", 5]\n",
    "output1 = \"\"\"{employees_data[0]} is working in {employees_data[2]} for {employees_data[3]} years and his salary is {employees_data[1]}\"\"\"\n",
    "\n",
    "print (output1.format (employees_data=employees_data))"
   ]
  },
  {
   "cell_type": "markdown",
   "metadata": {},
   "source": [
    "# Solution of Example 2"
   ]
  },
  {
   "cell_type": "code",
   "execution_count": 35,
   "metadata": {},
   "outputs": [
    {
     "name": "stdout",
     "output_type": "stream",
     "text": [
      "Hello Ahmed Bilal\n",
      "Your application is accepted for admission in BS Computer Science in Government College University.\n",
      "You have to submit fee 50000 before 28 Januray 2020.\n",
      "Your classes will start from 05 February 2020.\n",
      "Thanks\n"
     ]
    }
   ],
   "source": [
    "studentData = ['Ahmed', 'Bilal', 'Government College University', 'Computer Science', 'BS', 50000,\n",
    "               '28 Januray 2020', '05 February 2020']\n",
    "output2 = \"\"\"Hello {studentData[0]} {studentData[1]}\n",
    "Your application is accepted for admission in {studentData[4]} {studentData[3]} in {studentData[2]}.\n",
    "You have to submit fee {studentData[5]} before {studentData[6]}.\n",
    "Your classes will start from {studentData[7]}.\n",
    "Thanks\"\"\"\n",
    "\n",
    "print (output2.format (studentData=studentData))"
   ]
  },
  {
   "cell_type": "markdown",
   "metadata": {},
   "source": [
    "# 2. Slicing\n",
    "\n",
    "You have a list of cities given as follows. Use positive and negative slicing methods to print out following outputs:\n",
    "\n",
    "cities = [\"Faisalabad\", \"Lahore\", \"Islamabad\", \"Peshawar\", \"Quetta\", \"Sahiwal\", \"Rawalpindi\", \"Sialkot\"]\n",
    "\n",
    "# Outputs:\n",
    "\n",
    "# (For positive slicing)\n",
    "1. [\"Faisalabad\", \"Lahore\", \"Islamabad\", \"Peshawar\"]\n",
    "2. [\"Islamabad\", \"Peshawar\", \"Quetta\", \"Sahiwal\"]\n",
    "3. [\"Sahiwal\", \"Rawalpindi\", \"Sialkot\"]\n",
    "\n",
    "# (For negative slicing)\n",
    "1. ['Quetta', 'Sahiwal', 'Rawalpindi']\n",
    "2. ['Peshawar', 'Quetta', 'Sahiwal', 'Rawalpindi', 'Sialkot']"
   ]
  },
  {
   "cell_type": "code",
   "execution_count": 42,
   "metadata": {},
   "outputs": [
    {
     "name": "stdout",
     "output_type": "stream",
     "text": [
      "['Faisalabad', 'Lahore', 'Islamabad', 'Peshawar']\n",
      "['Islamabad', 'Peshawar', 'Quetta', 'Sahiwal']\n",
      "['Sahiwal', 'Rawalpindi', 'Sialkot']\n"
     ]
    }
   ],
   "source": [
    "# (For positive slicing)\n",
    "cities = [\"Faisalabad\", \"Lahore\", \"Islamabad\", \"Peshawar\", \"Quetta\", \"Sahiwal\", \"Rawalpindi\", \"Sialkot\"]\n",
    "print(cities[0:4])\n",
    "print(cities[2:6])\n",
    "print(cities[5:])"
   ]
  },
  {
   "cell_type": "code",
   "execution_count": 50,
   "metadata": {},
   "outputs": [
    {
     "name": "stdout",
     "output_type": "stream",
     "text": [
      "['Quetta', 'Sahiwal', 'Rawalpindi']\n",
      "['Peshawar', 'Quetta', 'Sahiwal', 'Rawalpindi', 'Sialkot']\n"
     ]
    }
   ],
   "source": [
    "# (For negative slicing)\n",
    "cities = [\"Faisalabad\", \"Lahore\", \"Islamabad\", \"Peshawar\", \"Quetta\", \"Sahiwal\", \"Rawalpindi\", \"Sialkot\"]\n",
    "print(cities[-4:-1])\n",
    "print(cities[-5:])"
   ]
  },
  {
   "cell_type": "markdown",
   "metadata": {},
   "source": [
    "# 3. Update Lists\n",
    "You have a list of student information. You need to update it for following statements\n",
    "\n",
    "studentData = [\"Ali Raza\", 22, 91.24, \"Computer Science\", 5, \"University of Agriculture\"]\n",
    "\n",
    "*Add values to this list using append\n",
    "\n",
    "1. '20 February 2019'\n",
    "2. 8\n",
    "\n",
    "*Use insert method to insert at specific index\n",
    "\n",
    "1. 25000 at index 4\n",
    "2. 'M. Iqbal' at index 1\n",
    "\n",
    "*Update list using list update method:\n",
    "\n",
    "1. Change Name from 'Ali Raza' to 'Zohaib Ali'\n",
    "2. Change No of subjects from 5 to 7\n",
    "\n",
    "*Remove values from list using remove method\n",
    "\n",
    "1. 'Computer Science'\n",
    "2. 91.24\n",
    "\n",
    "*Remove using pop method\n",
    "\n",
    "1. Last value from list\n",
    "2. value at 3rd index"
   ]
  },
  {
   "cell_type": "code",
   "execution_count": 57,
   "metadata": {},
   "outputs": [
    {
     "name": "stdout",
     "output_type": "stream",
     "text": [
      "['Ali Raza', 'M. Iqbal', 22, 91.24, 'Computer Science', 25000, 5, 'University of Agriculture', '20 February 2019', 8]\n"
     ]
    }
   ],
   "source": [
    "studentData = [\"Ali Raza\", 22, 91.24, \"Computer Science\", 5, \"University of Agriculture\"]\n",
    "#Add values to this list using append\n",
    "studentData.append(\"20 February 2019\")\n",
    "studentData.append(8)\n",
    "#Use insert method to insert at specific index\n",
    "studentData.insert(4,25000)\n",
    "studentData.insert(1, \"M. Iqbal\")\n",
    "print(studentData)"
   ]
  },
  {
   "cell_type": "code",
   "execution_count": 62,
   "metadata": {},
   "outputs": [
    {
     "name": "stdout",
     "output_type": "stream",
     "text": [
      "['Ali Raza', 'M. Iqbal', 22, 25000, 5, 'University of Agriculture', '20 February 2019', 8]\n"
     ]
    }
   ],
   "source": [
    "#Remove values from list using remove method\n",
    "studentData.remove(\"Computer Science\")\n",
    "studentData.remove(91.24)\n",
    "print(studentData)"
   ]
  },
  {
   "cell_type": "code",
   "execution_count": 63,
   "metadata": {},
   "outputs": [
    {
     "name": "stdout",
     "output_type": "stream",
     "text": [
      "['Zohaib Ali', 'M. Iqbal', 22, 25000, 7, 'University of Agriculture', '20 February 2019', 8]\n"
     ]
    }
   ],
   "source": [
    "#Update list using list update method:\n",
    "studentData[0] = \"Zohaib Ali\"\n",
    "studentData[4] = 7\n",
    "print(studentData)"
   ]
  },
  {
   "cell_type": "code",
   "execution_count": 64,
   "metadata": {},
   "outputs": [
    {
     "name": "stdout",
     "output_type": "stream",
     "text": [
      "['Zohaib Ali', 'M. Iqbal', 22, 7, 'University of Agriculture', '20 February 2019']\n"
     ]
    }
   ],
   "source": [
    "#Remove using pop method\n",
    "studentData.pop(-1)\n",
    "studentData.pop(3)\n",
    "print(studentData)"
   ]
  },
  {
   "cell_type": "markdown",
   "metadata": {},
   "source": [
    "# 4. Multidimensional list tasks\n",
    "You have given data of an employee\n",
    "\n",
    "employeeData = [[\"Ali\", 35000, \"Software Engineer\"],\n",
    "\t\t\t\t[\"Talha\", 55000, \"Product Manager\"],\n",
    "\t\t\t\t[\"Nasir\", 79000, \"Computer Engineer\"],\n",
    "\t\t\t\t[\"Khalid\", 44000, \"DBA\"]]\n",
    "# For Loop\n",
    "Tasks\n",
    "\n",
    "1. Print name of employees with salaray greater than 50000.\n",
    "2. Calculate total salary of all employees.\n",
    "# List update tasks\n",
    "1. Change salary of nasir from 79000 to 90000 and designation to \"Product Manager\"\n",
    "2. Change salary of Khalid to 50000"
   ]
  },
  {
   "cell_type": "code",
   "execution_count": 2,
   "metadata": {},
   "outputs": [],
   "source": [
    "#Print name of employees with salaray greater than 50000.\n",
    "employeeData = [[\"Ali\", 35000, \"Software Engineer\"], [\"Talha\", 55000, \"Product Manager\"], [\"Nasir\", 79000, \"Computer Engineer\"], [\"Khalid\", 44000, \"DBA\"]]\n",
    "salary_gr_50k = []\n",
    "for i in employeeData:\n",
    "    salary = i[1] #getting all salaries\n",
    "    if salary > 50000: #condition statement\n",
    "        salary_gr_50k.append([i[0],i[1]])"
   ]
  },
  {
   "cell_type": "code",
   "execution_count": 3,
   "metadata": {},
   "outputs": [
    {
     "name": "stdout",
     "output_type": "stream",
     "text": [
      "[['Talha', 55000], ['Nasir', 79000]]\n"
     ]
    }
   ],
   "source": [
    "print(salary_gr_50k)"
   ]
  },
  {
   "cell_type": "code",
   "execution_count": 4,
   "metadata": {},
   "outputs": [],
   "source": [
    "#Calculate total salary of all employees.\n",
    "tot_salary = 0\n",
    "for j in employeeData:\n",
    "    tot_salary += j[1]"
   ]
  },
  {
   "cell_type": "code",
   "execution_count": 5,
   "metadata": {},
   "outputs": [
    {
     "name": "stdout",
     "output_type": "stream",
     "text": [
      "213000\n"
     ]
    }
   ],
   "source": [
    "print(tot_salary)"
   ]
  },
  {
   "cell_type": "code",
   "execution_count": 36,
   "metadata": {},
   "outputs": [
    {
     "data": {
      "text/plain": [
       "[['Ali', 35000, 'Software Engineer'],\n",
       " ['Talha', 55000, 'Product Manager'],\n",
       " ['Nasir', 90000, 'Computer Engineer'],\n",
       " ['Khalid', 50000, 'DBA']]"
      ]
     },
     "execution_count": 36,
     "metadata": {},
     "output_type": "execute_result"
    }
   ],
   "source": [
    "#Change salary of nasir from 79000 to 90000 and designation to \"Product Manager\"\n",
    "employeeData = [[\"Ali\", 35000, \"Software Engineer\"], [\"Talha\", 55000, \"Product Manager\"], [\"Nasir\", 79000, \"Computer Engineer\"], [\"Khalid\", 44000, \"DBA\"]]\n",
    "employeeData[2][1] = 90000\n",
    "#Change salary of Khalid to 50000\n",
    "employeeData[3][1] = 50000\n",
    "employeeData"
   ]
  },
  {
   "cell_type": "markdown",
   "metadata": {},
   "source": [
    "# 5. Login User\n",
    "You have given some users data. You have to write a script to check if username and password are correct. If username and password are correct. Then you have to check if email is verified or not. If it is verified then print Login Succeed else print Email not verified. If username or password are incorrect you have to print Incorrect Login details\n",
    "\n",
    "# Data 1\n",
    "username = \"faizan1214\"\n",
    "password = \"qwerty\"\n",
    "emailVerified = False\n",
    "\n",
    "# Data 2\n",
    "username = \"faizan1214\"\n",
    "password = \"qwerty\"\n",
    "emailVerified = True"
   ]
  },
  {
   "cell_type": "code",
   "execution_count": 12,
   "metadata": {},
   "outputs": [
    {
     "name": "stdout",
     "output_type": "stream",
     "text": [
      "Email not verified\n"
     ]
    }
   ],
   "source": [
    "# Data 1\n",
    "username = \"faizan1214\"\n",
    "password = \"qwerty\"\n",
    "emailVerified = False\n",
    "\n",
    "\n",
    "if username == \"faizan1214\" and password == \"qwerty\":\n",
    "    if emailVerified == True:\n",
    "        print(\"Login Succeed\")\n",
    "    else:\n",
    "        print(\"Email not verified\")\n",
    "else:\n",
    "    print(\"Incorrect Login details\")\n"
   ]
  },
  {
   "cell_type": "code",
   "execution_count": 14,
   "metadata": {},
   "outputs": [
    {
     "name": "stdout",
     "output_type": "stream",
     "text": [
      "Login Succeed\n"
     ]
    }
   ],
   "source": [
    "# Data 2\n",
    "username = \"faizan1214\"\n",
    "password = \"qwerty\"\n",
    "emailVerified = True\n",
    "\n",
    "if username == \"faizan1214\" and password == \"qwerty\":\n",
    "    if emailVerified == True:\n",
    "        print(\"Login Succeed\")\n",
    "    else:\n",
    "        print(\"Email not verified\")\n",
    "else:\n",
    "    print(\"Incorrect Login details\")"
   ]
  },
  {
   "cell_type": "code",
   "execution_count": 15,
   "metadata": {},
   "outputs": [
    {
     "name": "stdout",
     "output_type": "stream",
     "text": [
      "Incorrect Login details\n"
     ]
    }
   ],
   "source": [
    "if username == \"faizan12145\" and password == \"qwerty\":\n",
    "    if emailVerified == True:\n",
    "        print(\"Login Succeed\")\n",
    "    else:\n",
    "        print(\"Email not verified\")\n",
    "else:\n",
    "    print(\"Incorrect Login details\")"
   ]
  },
  {
   "cell_type": "code",
   "execution_count": null,
   "metadata": {},
   "outputs": [],
   "source": []
  }
 ],
 "metadata": {
  "kernelspec": {
   "display_name": "Python 3",
   "language": "python",
   "name": "python3"
  },
  "language_info": {
   "codemirror_mode": {
    "name": "ipython",
    "version": 3
   },
   "file_extension": ".py",
   "mimetype": "text/x-python",
   "name": "python",
   "nbconvert_exporter": "python",
   "pygments_lexer": "ipython3",
   "version": "3.7.4"
  }
 },
 "nbformat": 4,
 "nbformat_minor": 2
}
