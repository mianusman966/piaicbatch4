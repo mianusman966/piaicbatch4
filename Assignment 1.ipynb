{
 "cells": [
  {
   "cell_type": "markdown",
   "metadata": {},
   "source": [
    "# Class 2 Assignment"
   ]
  },
  {
   "cell_type": "markdown",
   "metadata": {},
   "source": [
    "# 1) Write formulla for area of circle \n",
    "  where\n",
    "* radius is 5\n",
    "* pi is 3.14"
   ]
  },
  {
   "cell_type": "code",
   "execution_count": 3,
   "metadata": {},
   "outputs": [
    {
     "name": "stdout",
     "output_type": "stream",
     "text": [
      "78.5\n"
     ]
    }
   ],
   "source": [
    "# solutions\n",
    "radius = 5\n",
    "pi = 3.14\n",
    "area_circle = pi * radius ** 2\n",
    "print(area_circle)"
   ]
  },
  {
   "cell_type": "markdown",
   "metadata": {},
   "source": [
    "# 2) Create lists with following values with following names\n",
    "* cities -> Faisalabad, Islamabad, Karachi, Lahore, Quetta\n",
    "* result -> 93.4, 95, 98.7, 87.4, 83.02\n",
    "* score -> 45, 70, 54, 90, 42"
   ]
  },
  {
   "cell_type": "code",
   "execution_count": 8,
   "metadata": {},
   "outputs": [],
   "source": [
    "cities = [\"Faisalabad\", \"Islamabad\", \"Karachi\", \"Lahore\", \"Quetta\"]\n",
    "result = [93.4, 95, 98.7, 87.4, 83.02]\n",
    "score  = [45, 70, 54, 90, 42]"
   ]
  },
  {
   "cell_type": "code",
   "execution_count": 9,
   "metadata": {},
   "outputs": [
    {
     "name": "stdout",
     "output_type": "stream",
     "text": [
      "['Faisalabad', 'Islamabad', 'Karachi', 'Lahore', 'Quetta']\n",
      "[93.4, 95, 98.7, 87.4, 83.02]\n",
      "[45, 70, 54, 90, 42]\n"
     ]
    }
   ],
   "source": [
    "print(cities)\n",
    "print(result)\n",
    "print(score)"
   ]
  }
 ],
 "metadata": {
  "kernelspec": {
   "display_name": "Python 3",
   "language": "python",
   "name": "python3"
  },
  "language_info": {
   "codemirror_mode": {
    "name": "ipython",
    "version": 3
   },
   "file_extension": ".py",
   "mimetype": "text/x-python",
   "name": "python",
   "nbconvert_exporter": "python",
   "pygments_lexer": "ipython3",
   "version": "3.7.4"
  }
 },
 "nbformat": 4,
 "nbformat_minor": 2
}
