{
 "cells": [
  {
   "cell_type": "code",
   "execution_count": 8,
   "metadata": {},
   "outputs": [],
   "source": [
    "class Employee():\n",
    "    def __init__(self, name, age, designation):\n",
    "        self.emp_name = name\n",
    "        self.emp_age = age\n",
    "        self.emp_designation = designation\n",
    "    \n",
    "    def printData(self):\n",
    "        print(\"Hello\", self.emp_name)"
   ]
  },
  {
   "cell_type": "code",
   "execution_count": 9,
   "metadata": {},
   "outputs": [],
   "source": [
    "emp1 = Employee(\"Faizan\", 23, \"Teacher\")"
   ]
  },
  {
   "cell_type": "code",
   "execution_count": 10,
   "metadata": {},
   "outputs": [
    {
     "name": "stdout",
     "output_type": "stream",
     "text": [
      "Hello Faizan\n"
     ]
    }
   ],
   "source": [
    "emp1.printData()"
   ]
  },
  {
   "cell_type": "code",
   "execution_count": 11,
   "metadata": {},
   "outputs": [],
   "source": [
    "emp2 = Employee(\"Waqas\", 25, \"AI Teacher\")"
   ]
  },
  {
   "cell_type": "code",
   "execution_count": 16,
   "metadata": {},
   "outputs": [
    {
     "name": "stdout",
     "output_type": "stream",
     "text": [
      "Waqas\n",
      "25\n",
      "AI Teacher\n"
     ]
    }
   ],
   "source": [
    "print(emp2.emp_name)\n",
    "print(emp2.emp_age)\n",
    "print(emp2.emp_designation)"
   ]
  },
  {
   "cell_type": "code",
   "execution_count": 17,
   "metadata": {},
   "outputs": [
    {
     "name": "stdout",
     "output_type": "stream",
     "text": [
      "Hello Waqas\n"
     ]
    }
   ],
   "source": [
    "emp2.printData()"
   ]
  },
  {
   "cell_type": "code",
   "execution_count": 129,
   "metadata": {},
   "outputs": [],
   "source": [
    "class LoginManager():\n",
    "    def __init__(self, username, password, isVerified):\n",
    "        self.username = username\n",
    "        self.password = password\n",
    "        self.isVerified = isVerified\n",
    "    \n",
    "    def setVerifiedValue(self, data):\n",
    "        print(\"Value to Update is: \", data)\n",
    "        if type(data) == bool:\n",
    "            self.isVerified = data\n",
    "        else:\n",
    "            print(\"Plz Enter Value in True/False\")\n",
    "        print(\"Updated value: \",self.isVerified)\n",
    "        \n",
    "    def checkVerified(self):\n",
    "        if self.isVerified:\n",
    "            print(\"User is Verified\")\n",
    "            return True\n",
    "        else:\n",
    "            print(\"User is Not Verified\")\n",
    "            return False\n",
    "            \n",
    "    def loginUser(self):\n",
    "        if self.username == \"faizan\" and self.password == \"123456\":\n",
    "            if self.checkVerified():\n",
    "                return \"User Logged in\"\n",
    "            else:\n",
    "                print(\"Not Verified\")\n",
    "        else:\n",
    "            return \"Incorrect details\""
   ]
  },
  {
   "cell_type": "code",
   "execution_count": 130,
   "metadata": {},
   "outputs": [],
   "source": [
    "user1 = LoginManager(\"faizan\", \"123456\", True)"
   ]
  },
  {
   "cell_type": "code",
   "execution_count": 131,
   "metadata": {},
   "outputs": [
    {
     "name": "stdout",
     "output_type": "stream",
     "text": [
      "User is Verified\n"
     ]
    },
    {
     "data": {
      "text/plain": [
       "True"
      ]
     },
     "execution_count": 131,
     "metadata": {},
     "output_type": "execute_result"
    }
   ],
   "source": [
    "user1.checkVerified()"
   ]
  },
  {
   "cell_type": "code",
   "execution_count": 132,
   "metadata": {},
   "outputs": [
    {
     "name": "stdout",
     "output_type": "stream",
     "text": [
      "User is Verified\n"
     ]
    },
    {
     "data": {
      "text/plain": [
       "'User Logged in'"
      ]
     },
     "execution_count": 132,
     "metadata": {},
     "output_type": "execute_result"
    }
   ],
   "source": [
    "user1.loginUser()"
   ]
  },
  {
   "cell_type": "code",
   "execution_count": 133,
   "metadata": {},
   "outputs": [],
   "source": [
    "user2 = LoginManager(\"waqas\", \"56789\", False)"
   ]
  },
  {
   "cell_type": "code",
   "execution_count": 134,
   "metadata": {},
   "outputs": [
    {
     "data": {
      "text/plain": [
       "'Incorrect details'"
      ]
     },
     "execution_count": 134,
     "metadata": {},
     "output_type": "execute_result"
    }
   ],
   "source": [
    "user2.loginUser()"
   ]
  },
  {
   "cell_type": "code",
   "execution_count": 135,
   "metadata": {},
   "outputs": [],
   "source": [
    "user2.isVerified = True"
   ]
  },
  {
   "cell_type": "code",
   "execution_count": 136,
   "metadata": {},
   "outputs": [
    {
     "name": "stdout",
     "output_type": "stream",
     "text": [
      "User is Verified\n"
     ]
    },
    {
     "data": {
      "text/plain": [
       "True"
      ]
     },
     "execution_count": 136,
     "metadata": {},
     "output_type": "execute_result"
    }
   ],
   "source": [
    "user2.checkVerified()"
   ]
  },
  {
   "cell_type": "code",
   "execution_count": 137,
   "metadata": {},
   "outputs": [
    {
     "name": "stdout",
     "output_type": "stream",
     "text": [
      "Value to Update is:  True\n",
      "Updated value:  True\n"
     ]
    }
   ],
   "source": [
    "user2.setVerifiedValue(True)"
   ]
  },
  {
   "cell_type": "code",
   "execution_count": 138,
   "metadata": {},
   "outputs": [
    {
     "name": "stdout",
     "output_type": "stream",
     "text": [
      "User is Verified\n"
     ]
    },
    {
     "data": {
      "text/plain": [
       "True"
      ]
     },
     "execution_count": 138,
     "metadata": {},
     "output_type": "execute_result"
    }
   ],
   "source": [
    "user2.checkVerified()"
   ]
  },
  {
   "cell_type": "code",
   "execution_count": 139,
   "metadata": {},
   "outputs": [
    {
     "name": "stdout",
     "output_type": "stream",
     "text": [
      "Value to Update is:  False\n",
      "Updated value:  False\n"
     ]
    }
   ],
   "source": [
    "user2.setVerifiedValue(False)"
   ]
  },
  {
   "cell_type": "code",
   "execution_count": 141,
   "metadata": {},
   "outputs": [],
   "source": [
    "class MyClass():  #We write Class name in Pascal Case e.g Every word firt character write in Capital\n",
    "    pass"
   ]
  },
  {
   "cell_type": "code",
   "execution_count": 142,
   "metadata": {},
   "outputs": [],
   "source": [
    "a = MyClass()\n",
    "z = MyClass()"
   ]
  },
  {
   "cell_type": "code",
   "execution_count": 146,
   "metadata": {},
   "outputs": [],
   "source": [
    "class MyClass():\n",
    "    def __init__(self,name,time):#this is constructor it use when we store some data in class\n",
    "        self.name1 = name\n",
    "        self.class_time = time\n",
    "    def first_method(self):\n",
    "        return \"This is my first method\""
   ]
  },
  {
   "cell_type": "code",
   "execution_count": 149,
   "metadata": {},
   "outputs": [
    {
     "data": {
      "text/plain": [
       "'9-12'"
      ]
     },
     "execution_count": 149,
     "metadata": {},
     "output_type": "execute_result"
    }
   ],
   "source": [
    "abc = MyClass(\"A.I\", \"9-12\")\n",
    "abc.class_time"
   ]
  },
  {
   "cell_type": "markdown",
   "metadata": {},
   "source": [
    "# Modules\n",
    "* Is the collection of Variables, Functions and Classes"
   ]
  },
  {
   "cell_type": "code",
   "execution_count": 150,
   "metadata": {},
   "outputs": [],
   "source": [
    "import csv            #csv module"
   ]
  },
  {
   "cell_type": "code",
   "execution_count": null,
   "metadata": {},
   "outputs": [],
   "source": [
    "csv.reader()\n",
    "csv.writer()"
   ]
  }
 ],
 "metadata": {
  "kernelspec": {
   "display_name": "Python 3",
   "language": "python",
   "name": "python3"
  },
  "language_info": {
   "codemirror_mode": {
    "name": "ipython",
    "version": 3
   },
   "file_extension": ".py",
   "mimetype": "text/x-python",
   "name": "python",
   "nbconvert_exporter": "python",
   "pygments_lexer": "ipython3",
   "version": "3.7.4"
  }
 },
 "nbformat": 4,
 "nbformat_minor": 2
}
