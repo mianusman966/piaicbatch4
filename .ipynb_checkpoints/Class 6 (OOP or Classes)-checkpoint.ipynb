{
 "cells": [
  {
   "cell_type": "code",
   "execution_count": 8,
   "metadata": {},
   "outputs": [],
   "source": [
    "class Employee():\n",
    "    def __init__(self, name, age, designation):\n",
    "        self.emp_name = name\n",
    "        self.emp_age = age\n",
    "        self.emp_designation = designation\n",
    "    \n",
    "    def printData(self):\n",
    "        print(\"Hello\", self.emp_name)"
   ]
  },
  {
   "cell_type": "code",
   "execution_count": 9,
   "metadata": {},
   "outputs": [],
   "source": [
    "emp1 = Employee(\"Faizan\", 23, \"Teacher\")"
   ]
  },
  {
   "cell_type": "code",
   "execution_count": 10,
   "metadata": {},
   "outputs": [
    {
     "name": "stdout",
     "output_type": "stream",
     "text": [
      "Hello Faizan\n"
     ]
    }
   ],
   "source": [
    "emp1.printData()"
   ]
  },
  {
   "cell_type": "code",
   "execution_count": 11,
   "metadata": {},
   "outputs": [],
   "source": [
    "emp2 = Employee(\"Waqas\", 25, \"AI Teacher\")"
   ]
  },
  {
   "cell_type": "code",
   "execution_count": 16,
   "metadata": {},
   "outputs": [
    {
     "name": "stdout",
     "output_type": "stream",
     "text": [
      "Waqas\n",
      "25\n",
      "AI Teacher\n"
     ]
    }
   ],
   "source": [
    "print(emp2.emp_name)\n",
    "print(emp2.emp_age)\n",
    "print(emp2.emp_designation)"
   ]
  },
  {
   "cell_type": "code",
   "execution_count": 17,
   "metadata": {},
   "outputs": [
    {
     "name": "stdout",
     "output_type": "stream",
     "text": [
      "Hello Waqas\n"
     ]
    }
   ],
   "source": [
    "emp2.printData()"
   ]
  },
  {
   "cell_type": "code",
   "execution_count": 47,
   "metadata": {},
   "outputs": [],
   "source": [
    "class LoginManager():\n",
    "    def __init__(self, username, password, isVerified):\n",
    "        self.username = username\n",
    "        self.password = password\n",
    "        self.isVerified = isVerified\n",
    "    def checkVerified(self):\n",
    "        if self.isVerified:\n",
    "            print(\"User is Verified\")\n",
    "        else:\n",
    "            print(\"User is Not Verified\")\n",
    "    def loginUser(self):\n",
    "        if self.username == \"faizan\" and self.password == \"123456\":\n",
    "            return \"User Logged in\"\n",
    "        else:\n",
    "            return \"Incorrect details\""
   ]
  },
  {
   "cell_type": "code",
   "execution_count": 48,
   "metadata": {},
   "outputs": [],
   "source": [
    "user1 = LoginManager(\"faizan\", \"123456\", True)"
   ]
  },
  {
   "cell_type": "code",
   "execution_count": 49,
   "metadata": {},
   "outputs": [
    {
     "name": "stdout",
     "output_type": "stream",
     "text": [
      "User is Verified\n"
     ]
    }
   ],
   "source": [
    "user1.checkVerified()"
   ]
  },
  {
   "cell_type": "code",
   "execution_count": 50,
   "metadata": {},
   "outputs": [
    {
     "data": {
      "text/plain": [
       "'User Logged in'"
      ]
     },
     "execution_count": 50,
     "metadata": {},
     "output_type": "execute_result"
    }
   ],
   "source": [
    "user1.loginUser()"
   ]
  },
  {
   "cell_type": "code",
   "execution_count": 51,
   "metadata": {},
   "outputs": [],
   "source": [
    "user2 = LoginManager(\"waqas\", \"56789\", False)"
   ]
  },
  {
   "cell_type": "code",
   "execution_count": null,
   "metadata": {},
   "outputs": [],
   "source": []
  }
 ],
 "metadata": {
  "kernelspec": {
   "display_name": "Python 3",
   "language": "python",
   "name": "python3"
  },
  "language_info": {
   "codemirror_mode": {
    "name": "ipython",
    "version": 3
   },
   "file_extension": ".py",
   "mimetype": "text/x-python",
   "name": "python",
   "nbconvert_exporter": "python",
   "pygments_lexer": "ipython3",
   "version": "3.7.4"
  }
 },
 "nbformat": 4,
 "nbformat_minor": 2
}
