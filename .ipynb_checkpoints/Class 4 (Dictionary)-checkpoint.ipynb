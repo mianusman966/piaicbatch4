{
 "cells": [
  {
   "cell_type": "code",
   "execution_count": 1,
   "metadata": {},
   "outputs": [],
   "source": [
    "employee1 = ['Waqas', 27, 'Male', 350000]\n"
   ]
  },
  {
   "cell_type": "markdown",
   "metadata": {},
   "source": [
    "Dictionary is a key value pair"
   ]
  },
  {
   "cell_type": "code",
   "execution_count": 3,
   "metadata": {},
   "outputs": [],
   "source": [
    "employee = {\"Employee_Name\":\"Waqas\",\"Age\":27,\"Gender\":\"Male\",\"Salary\":350000}\n"
   ]
  },
  {
   "cell_type": "code",
   "execution_count": 34,
   "metadata": {},
   "outputs": [
    {
     "name": "stdout",
     "output_type": "stream",
     "text": [
      "<class 'dict'>\n"
     ]
    },
    {
     "data": {
      "text/plain": [
       "{'Employee_Name': 'Muhammad Waqas',\n",
       " 'Age': 27,\n",
       " 'Gender': 'Male',\n",
       " 'Salary': 350000,\n",
       " 'Position': 'Senior A.I Lead',\n",
       " 'Department': ['Finance', 'Data Science'],\n",
       " 'sub_ordinate': {'employee1': 'Shahzad', 'employee2': 'Noman'}}"
      ]
     },
     "execution_count": 34,
     "metadata": {},
     "output_type": "execute_result"
    }
   ],
   "source": [
    "print(type(employee))\n",
    "employee"
   ]
  },
  {
   "cell_type": "code",
   "execution_count": 6,
   "metadata": {},
   "outputs": [
    {
     "data": {
      "text/plain": [
       "27"
      ]
     },
     "execution_count": 6,
     "metadata": {},
     "output_type": "execute_result"
    }
   ],
   "source": [
    "#We use Key Name to get Data,insert, etc operation\n",
    "#List is Ordered Data Structure\n",
    "#Dictionary is unordered Data Structure\n",
    "#Dictionary is Case Sencitive\n",
    "# 'List' 'Dictionary' is not used as Key  but also used in Value\n",
    "employee[\"Age\"]\n"
   ]
  },
  {
   "cell_type": "code",
   "execution_count": 8,
   "metadata": {},
   "outputs": [
    {
     "data": {
      "text/plain": [
       "{'Employee_Name': 'Muhammad Waqas',\n",
       " 'Age': 27,\n",
       " 'Gender': 'Male',\n",
       " 'Salary': 350000}"
      ]
     },
     "execution_count": 8,
     "metadata": {},
     "output_type": "execute_result"
    }
   ],
   "source": [
    "employee[\"Employee_Name\"] = \"Muhammad Waqas\"\n",
    "employee"
   ]
  },
  {
   "cell_type": "code",
   "execution_count": 9,
   "metadata": {},
   "outputs": [
    {
     "data": {
      "text/plain": [
       "{'Employee_Name': 'Muhammad Waqas',\n",
       " 'Age': 27,\n",
       " 'Gender': 'Male',\n",
       " 'Salary': 350000,\n",
       " 'DOB': '06 Jan 1990'}"
      ]
     },
     "execution_count": 9,
     "metadata": {},
     "output_type": "execute_result"
    }
   ],
   "source": [
    "employee[\"DOB\"] = \"06 Jan 1990\"\n",
    "employee"
   ]
  },
  {
   "cell_type": "code",
   "execution_count": 10,
   "metadata": {},
   "outputs": [
    {
     "data": {
      "text/plain": [
       "'06 Jan 1990'"
      ]
     },
     "execution_count": 10,
     "metadata": {},
     "output_type": "execute_result"
    }
   ],
   "source": [
    "employee.pop(\"DOB\") #del employee[\"DOB\"]"
   ]
  },
  {
   "cell_type": "code",
   "execution_count": 11,
   "metadata": {},
   "outputs": [
    {
     "data": {
      "text/plain": [
       "{'Employee_Name': 'Muhammad Waqas',\n",
       " 'Age': 27,\n",
       " 'Gender': 'Male',\n",
       " 'Salary': 350000}"
      ]
     },
     "execution_count": 11,
     "metadata": {},
     "output_type": "execute_result"
    }
   ],
   "source": [
    "employee"
   ]
  },
  {
   "cell_type": "code",
   "execution_count": 12,
   "metadata": {},
   "outputs": [
    {
     "data": {
      "text/plain": [
       "{'Employee_Name': 'Muhammad Waqas',\n",
       " 'Age': 27,\n",
       " 'Gender': 'Male',\n",
       " 'Salary': 350000,\n",
       " 'Position': 'Senior A.I Lead'}"
      ]
     },
     "execution_count": 12,
     "metadata": {},
     "output_type": "execute_result"
    }
   ],
   "source": [
    "employee[\"Position\"] = \"Senior A.I Lead\"\n",
    "employee"
   ]
  },
  {
   "cell_type": "code",
   "execution_count": 13,
   "metadata": {},
   "outputs": [
    {
     "data": {
      "text/plain": [
       "{'Employee_Name': 'Muhammad Waqas',\n",
       " 'Age': 27,\n",
       " 'Gender': 'Male',\n",
       " 'Salary': 350000,\n",
       " 'Position': 'Senior A.I Lead',\n",
       " 'Department': ['Finance', 'Data Science']}"
      ]
     },
     "execution_count": 13,
     "metadata": {},
     "output_type": "execute_result"
    }
   ],
   "source": [
    "employee[\"Department\"] = [\"Finance\",\"Data Science\"]\n",
    "employee"
   ]
  },
  {
   "cell_type": "code",
   "execution_count": 14,
   "metadata": {},
   "outputs": [
    {
     "data": {
      "text/plain": [
       "['Waqas', 27, 'Male', 350000]"
      ]
     },
     "execution_count": 14,
     "metadata": {},
     "output_type": "execute_result"
    }
   ],
   "source": [
    "employee1"
   ]
  },
  {
   "cell_type": "code",
   "execution_count": 15,
   "metadata": {},
   "outputs": [
    {
     "data": {
      "text/plain": [
       "{'Employee_Name': 'Muhammad Waqas',\n",
       " 'Age': 27,\n",
       " 'Gender': 'Male',\n",
       " 'Salary': 350000,\n",
       " 'Position': 'Senior A.I Lead',\n",
       " 'Department': ['Finance', 'Data Science'],\n",
       " 'sub_ordinate': {'employee1': 'Shahzad', 'employee2': 'Noman'}}"
      ]
     },
     "execution_count": 15,
     "metadata": {},
     "output_type": "execute_result"
    }
   ],
   "source": [
    "employee[\"sub_ordinate\"] = {\"employee1\":\"Shahzad\", \"employee2\":\"Noman\"}\n",
    "employee"
   ]
  },
  {
   "cell_type": "markdown",
   "metadata": {},
   "source": [
    "# Very Important Topic"
   ]
  },
  {
   "cell_type": "code",
   "execution_count": 16,
   "metadata": {},
   "outputs": [
    {
     "data": {
      "text/plain": [
       "['Waqas', 27, 'Male', 350000]"
      ]
     },
     "execution_count": 16,
     "metadata": {},
     "output_type": "execute_result"
    }
   ],
   "source": [
    "employee1"
   ]
  },
  {
   "cell_type": "code",
   "execution_count": 20,
   "metadata": {},
   "outputs": [
    {
     "name": "stdout",
     "output_type": "stream",
     "text": [
      "Waqas\n",
      "27\n",
      "Male\n",
      "350000\n"
     ]
    }
   ],
   "source": [
    "#Loop in List\n",
    "for content in employee1:\n",
    "    print(content)"
   ]
  },
  {
   "cell_type": "code",
   "execution_count": 28,
   "metadata": {},
   "outputs": [
    {
     "name": "stdout",
     "output_type": "stream",
     "text": [
      "Employee_Name\n",
      "Age\n",
      "Gender\n",
      "Salary\n",
      "Position\n",
      "Department\n",
      "sub_ordinate\n",
      "********** Modify 1st Loop\n",
      "Employee_Name Muhammad Waqas\n",
      "Age 27\n",
      "Gender Male\n",
      "Salary 350000\n",
      "Position Senior A.I Lead\n",
      "Department ['Finance', 'Data Science']\n",
      "sub_ordinate {'employee1': 'Shahzad', 'employee2': 'Noman'}\n"
     ]
    }
   ],
   "source": [
    "#loop in Dictionary 4 ways\n",
    "#1st Way Simple Loop thats by default return only 'Key'\n",
    "for content in employee:\n",
    "    print(content)\n",
    "# We Modify 1st Loop for our self and get keys with values\n",
    "print(\"*\" * 10, \"Modify 1st Loop\")\n",
    "for content in employee:\n",
    "    print(content, employee[content])"
   ]
  },
  {
   "cell_type": "code",
   "execution_count": 30,
   "metadata": {},
   "outputs": [
    {
     "name": "stdout",
     "output_type": "stream",
     "text": [
      "Employee_Name\n",
      "Age\n",
      "Gender\n",
      "Salary\n",
      "Position\n",
      "Department\n",
      "sub_ordinate\n"
     ]
    }
   ],
   "source": [
    "#2nd Way Loop to get only keys\n",
    "for key in employee.keys():\n",
    "    print(key)"
   ]
  },
  {
   "cell_type": "code",
   "execution_count": 31,
   "metadata": {},
   "outputs": [
    {
     "name": "stdout",
     "output_type": "stream",
     "text": [
      "Muhammad Waqas\n",
      "27\n",
      "Male\n",
      "350000\n",
      "Senior A.I Lead\n",
      "['Finance', 'Data Science']\n",
      "{'employee1': 'Shahzad', 'employee2': 'Noman'}\n"
     ]
    }
   ],
   "source": [
    "#3rd Way Loop to get only Values\n",
    "for Value in employee.values():\n",
    "    print(Value)"
   ]
  },
  {
   "cell_type": "code",
   "execution_count": 33,
   "metadata": {},
   "outputs": [
    {
     "name": "stdout",
     "output_type": "stream",
     "text": [
      "Employee_Name : Muhammad Waqas\n",
      "Age : 27\n",
      "Gender : Male\n",
      "Salary : 350000\n",
      "Position : Senior A.I Lead\n",
      "Department : ['Finance', 'Data Science']\n",
      "sub_ordinate : {'employee1': 'Shahzad', 'employee2': 'Noman'}\n"
     ]
    }
   ],
   "source": [
    "#4th Way Loop to get only Values Sequence is first show key then value\n",
    "for k,v in employee.items():\n",
    "    print(k,\":\",v)"
   ]
  },
  {
   "cell_type": "code",
   "execution_count": 36,
   "metadata": {},
   "outputs": [],
   "source": [
    "employees = [{'Employee_Name': 'Muhammad Waqas',\n",
    " 'Age': 27,\n",
    " 'Gender': 'Male',\n",
    " 'Salary': 350000,\n",
    " 'Position': 'Senior A.I Lead',\n",
    " 'Department': ['Finance', 'Data Science'],\n",
    " 'sub_ordinate': {'employee1': 'Shahzad', 'employee2': 'Noman'}},\n",
    "            ]"
   ]
  },
  {
   "cell_type": "code",
   "execution_count": 35,
   "metadata": {},
   "outputs": [],
   "source": [
    "a = {'Employee_Name': 'Faizan',\n",
    " 'Age': 22,\n",
    " 'Gender': 'Male',\n",
    " 'Salary': 350000,\n",
    " 'Position': 'Senior A.I Lead',\n",
    " 'Department': ['A.I', 'Data Science'],\n",
    " 'sub_ordinate': {'employee1': 'Waqas', 'employee2': 'Khurram'}}"
   ]
  },
  {
   "cell_type": "code",
   "execution_count": 37,
   "metadata": {},
   "outputs": [
    {
     "data": {
      "text/plain": [
       "[{'Employee_Name': 'Muhammad Waqas',\n",
       "  'Age': 27,\n",
       "  'Gender': 'Male',\n",
       "  'Salary': 350000,\n",
       "  'Position': 'Senior A.I Lead',\n",
       "  'Department': ['Finance', 'Data Science'],\n",
       "  'sub_ordinate': {'employee1': 'Shahzad', 'employee2': 'Noman'}}]"
      ]
     },
     "execution_count": 37,
     "metadata": {},
     "output_type": "execute_result"
    }
   ],
   "source": [
    "employees"
   ]
  },
  {
   "cell_type": "code",
   "execution_count": 39,
   "metadata": {},
   "outputs": [],
   "source": [
    "employees.append(a)"
   ]
  },
  {
   "cell_type": "code",
   "execution_count": 40,
   "metadata": {},
   "outputs": [
    {
     "data": {
      "text/plain": [
       "[{'Employee_Name': 'Muhammad Waqas',\n",
       "  'Age': 27,\n",
       "  'Gender': 'Male',\n",
       "  'Salary': 350000,\n",
       "  'Position': 'Senior A.I Lead',\n",
       "  'Department': ['Finance', 'Data Science'],\n",
       "  'sub_ordinate': {'employee1': 'Shahzad', 'employee2': 'Noman'}},\n",
       " {'Employee_Name': 'Faizan',\n",
       "  'Age': 22,\n",
       "  'Gender': 'Male',\n",
       "  'Salary': 350000,\n",
       "  'Position': 'Senior A.I Lead',\n",
       "  'Department': ['A.I', 'Data Science'],\n",
       "  'sub_ordinate': {'employee1': 'Waqas', 'employee2': 'Khurram'}}]"
      ]
     },
     "execution_count": 40,
     "metadata": {},
     "output_type": "execute_result"
    }
   ],
   "source": [
    "employees"
   ]
  },
  {
   "cell_type": "code",
   "execution_count": 49,
   "metadata": {},
   "outputs": [],
   "source": [
    "employees[1]['Employee_Name'] = 'Faizan Amin'"
   ]
  },
  {
   "cell_type": "code",
   "execution_count": 42,
   "metadata": {},
   "outputs": [
    {
     "data": {
      "text/plain": [
       "[{'Employee_Name': 'Muhammad Waqas',\n",
       "  'Age': 27,\n",
       "  'Gender': 'Male',\n",
       "  'Salary': 350000,\n",
       "  'Position': 'Senior A.I Lead',\n",
       "  'Department': ['Finance', 'Data Science'],\n",
       "  'sub_ordinate': {'employee1': 'Shahzad', 'employee2': 'Noman'}},\n",
       " {'Employee_Name': 'Faizan Amin',\n",
       "  'Age': 22,\n",
       "  'Gender': 'Male',\n",
       "  'Salary': 350000,\n",
       "  'Position': 'Senior A.I Lead',\n",
       "  'Department': ['A.I', 'Data Science'],\n",
       "  'sub_ordinate': {'employee1': 'Waqas', 'employee2': 'Khurram'}}]"
      ]
     },
     "execution_count": 42,
     "metadata": {},
     "output_type": "execute_result"
    }
   ],
   "source": [
    "employees"
   ]
  },
  {
   "cell_type": "code",
   "execution_count": 43,
   "metadata": {},
   "outputs": [
    {
     "data": {
      "text/plain": [
       "27"
      ]
     },
     "execution_count": 43,
     "metadata": {},
     "output_type": "execute_result"
    }
   ],
   "source": [
    "employees[0][\"Age\"]"
   ]
  },
  {
   "cell_type": "code",
   "execution_count": 50,
   "metadata": {},
   "outputs": [
    {
     "data": {
      "text/plain": [
       "[{'Employee_Name': 'Muhammad Waqas',\n",
       "  'Age': 27,\n",
       "  'Gender': 'Male',\n",
       "  'Salary': 350000,\n",
       "  'Position': 'Senior A.I Lead',\n",
       "  'Department': ['Finance', 'Data Science'],\n",
       "  'sub_ordinate': {'employee1': 'Shahzad', 'employee2': 'Noman'}},\n",
       " {'Employee_Name': 'Faizan Amin',\n",
       "  'Age': 22,\n",
       "  'Gender': 'Male',\n",
       "  'Salary': 350000,\n",
       "  'Position': 'Senior A.I Lead',\n",
       "  'Department': ['A.I', 'Data Science'],\n",
       "  'sub_ordinate': {'employee1': 'Waqas', 'employee2': 'Khurram'}}]"
      ]
     },
     "execution_count": 50,
     "metadata": {},
     "output_type": "execute_result"
    }
   ],
   "source": [
    "employees"
   ]
  },
  {
   "cell_type": "code",
   "execution_count": 48,
   "metadata": {},
   "outputs": [
    {
     "data": {
      "text/plain": [
       "'Data Science'"
      ]
     },
     "execution_count": 48,
     "metadata": {},
     "output_type": "execute_result"
    }
   ],
   "source": [
    "employees[1][\"Department\"][1]"
   ]
  },
  {
   "cell_type": "code",
   "execution_count": 55,
   "metadata": {},
   "outputs": [
    {
     "data": {
      "text/plain": [
       "'Noman'"
      ]
     },
     "execution_count": 55,
     "metadata": {},
     "output_type": "execute_result"
    }
   ],
   "source": [
    "employees[0][\"sub_ordinate\"]['employee2']"
   ]
  },
  {
   "cell_type": "code",
   "execution_count": 56,
   "metadata": {},
   "outputs": [
    {
     "data": {
      "text/plain": [
       "['__class__',\n",
       " '__contains__',\n",
       " '__delattr__',\n",
       " '__delitem__',\n",
       " '__dir__',\n",
       " '__doc__',\n",
       " '__eq__',\n",
       " '__format__',\n",
       " '__ge__',\n",
       " '__getattribute__',\n",
       " '__getitem__',\n",
       " '__gt__',\n",
       " '__hash__',\n",
       " '__init__',\n",
       " '__init_subclass__',\n",
       " '__iter__',\n",
       " '__le__',\n",
       " '__len__',\n",
       " '__lt__',\n",
       " '__ne__',\n",
       " '__new__',\n",
       " '__reduce__',\n",
       " '__reduce_ex__',\n",
       " '__repr__',\n",
       " '__setattr__',\n",
       " '__setitem__',\n",
       " '__sizeof__',\n",
       " '__str__',\n",
       " '__subclasshook__',\n",
       " 'clear',\n",
       " 'copy',\n",
       " 'fromkeys',\n",
       " 'get',\n",
       " 'items',\n",
       " 'keys',\n",
       " 'pop',\n",
       " 'popitem',\n",
       " 'setdefault',\n",
       " 'update',\n",
       " 'values']"
      ]
     },
     "execution_count": 56,
     "metadata": {},
     "output_type": "execute_result"
    }
   ],
   "source": [
    "dir(dict)"
   ]
  },
  {
   "cell_type": "code",
   "execution_count": 1,
   "metadata": {},
   "outputs": [
    {
     "name": "stdout",
     "output_type": "stream",
     "text": [
      "Enter Value for Table10\n",
      "10 * 1 = 10\n",
      "10 * 2 = 20\n",
      "10 * 3 = 30\n",
      "10 * 4 = 40\n",
      "10 * 5 = 50\n",
      "10 * 6 = 60\n",
      "10 * 7 = 70\n",
      "10 * 8 = 80\n",
      "10 * 9 = 90\n",
      "10 * 10 = 100\n"
     ]
    }
   ],
   "source": [
    "tableValue = int(input(\"Enter Value for Table\"))\n",
    "\n",
    "for i in range (1,11):\n",
    "    print(f\"{tableValue} * {i} = {i * tableValue}\" end=\"\\t\")"
   ]
  },
  {
   "cell_type": "code",
   "execution_count": null,
   "metadata": {},
   "outputs": [],
   "source": []
  }
 ],
 "metadata": {
  "kernelspec": {
   "display_name": "Python 3",
   "language": "python",
   "name": "python3"
  },
  "language_info": {
   "codemirror_mode": {
    "name": "ipython",
    "version": 3
   },
   "file_extension": ".py",
   "mimetype": "text/x-python",
   "name": "python",
   "nbconvert_exporter": "python",
   "pygments_lexer": "ipython3",
   "version": "3.7.4"
  }
 },
 "nbformat": 4,
 "nbformat_minor": 2
}
